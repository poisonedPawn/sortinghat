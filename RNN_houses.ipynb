{
 "cells": [
  {
   "cell_type": "code",
   "execution_count": 6,
   "metadata": {},
   "outputs": [
    {
     "name": "stdout",
     "output_type": "stream",
     "text": [
      "Collecting numpy==1.19.3\n",
      "  Downloading numpy-1.19.3-cp38-cp38-win_amd64.whl (13.3 MB)\n",
      "Installing collected packages: numpy\n",
      "  Attempting uninstall: numpy\n",
      "    Found existing installation: numpy 1.19.4\n",
      "    Uninstalling numpy-1.19.4:\n",
      "      Successfully uninstalled numpy-1.19.4\n"
     ]
    },
    {
     "name": "stderr",
     "output_type": "stream",
     "text": [
      "ERROR: Could not install packages due to an EnvironmentError: [WinError 5] Acceso denegado: 'C:\\\\Users\\\\cande\\\\anaconda3\\\\Lib\\\\site-packages\\\\~umpy\\\\.libs\\\\libopenblas.NOIJJG62EMASZI6NYURL6JBKM4EVBGM7.gfortran-win_amd64.dll'\n",
      "Consider using the `--user` option or check the permissions.\n",
      "\n"
     ]
    }
   ],
   "source": [
    "!pip3 install numpy==1.19.3"
   ]
  },
  {
   "cell_type": "code",
   "execution_count": 7,
   "metadata": {},
   "outputs": [],
   "source": [
    "from tensorflow.keras.layers import Conv2D, Flatten, Dense, MaxPool2D, BatchNormalization, GlobalAveragePooling2D\n",
    "from tensorflow.keras.applications.resnet50 import preprocess_input, decode_predictions\n",
    "from tensorflow.keras.preprocessing.image import ImageDataGenerator, load_img\n",
    "from tensorflow.keras.applications.resnet50 import ResNet50\n",
    "from tensorflow.keras.preprocessing import image\n",
    "from tensorflow.keras.models import Sequential\n",
    "from tensorflow.keras.models import Model\n",
    "import matplotlib.pyplot as plt\n",
    "import numpy as np"
   ]
  },
  {
   "cell_type": "code",
   "execution_count": 12,
   "metadata": {},
   "outputs": [],
   "source": [
    "img_height, img_width = (64,64)\n",
    "batch_size = 32\n",
    "train_data_dir = r\"Faces_by_house_processed/train\"\n",
    "valid_data_dir = r\"Faces_by_house_processed/val\"\n",
    "test_data_dir = r\"Faces_by_house_processed/test\""
   ]
  },
  {
   "cell_type": "code",
   "execution_count": 13,
   "metadata": {},
   "outputs": [
    {
     "name": "stdout",
     "output_type": "stream",
     "text": [
      "Found 189 images belonging to 4 classes.\n",
      "Found 13 images belonging to 4 classes.\n"
     ]
    }
   ],
   "source": [
    "train_datagen = ImageDataGenerator(preprocessing_function=preprocess_input,\n",
    "                                   shear_range=0.2, zoom_range=0.2,validation_split=0.4)\n",
    "train_generator = train_datagen.flow_from_directory(train_data_dir, target_size = (img_height,img_width),\n",
    "                                                   batch_size=batch_size, class_mode=\"categorical\", \n",
    "                                                    subset=\"training\")\n",
    "valid_generator = train_datagen.flow_from_directory(valid_data_dir, target_size = (img_height,img_width),\n",
    "                                                   batch_size=batch_size, class_mode=\"categorical\", \n",
    "                                                    subset=\"validation\")\n"
   ]
  },
  {
   "cell_type": "code",
   "execution_count": 14,
   "metadata": {},
   "outputs": [
    {
     "name": "stdout",
     "output_type": "stream",
     "text": [
      "Found 15 images belonging to 4 classes.\n"
     ]
    }
   ],
   "source": [
    "test_generator = train_datagen.flow_from_directory(test_data_dir, target_size = (img_height,img_width),\n",
    "                                                   batch_size=1, class_mode=\"categorical\", \n",
    "                                                    subset=\"validation\")"
   ]
  },
  {
   "cell_type": "code",
   "execution_count": 15,
   "metadata": {},
   "outputs": [
    {
     "data": {
      "text/plain": [
       "(1, 64, 64, 3)"
      ]
     },
     "execution_count": 15,
     "metadata": {},
     "output_type": "execute_result"
    }
   ],
   "source": [
    "x,y = test_generator.next()\n",
    "x.shape"
   ]
  },
  {
   "cell_type": "code",
   "execution_count": 16,
   "metadata": {},
   "outputs": [
    {
     "name": "stdout",
     "output_type": "stream",
     "text": [
      "Downloading data from https://storage.googleapis.com/tensorflow/keras-applications/resnet/resnet50_weights_tf_dim_ordering_tf_kernels_notop.h5\n",
      "94773248/94765736 [==============================] - 7s 0us/step\n",
      "Epoch 1/10\n",
      "6/6 [==============================] - 5s 275ms/step - loss: 9.5888 - accuracy: 0.2936\n",
      "Epoch 2/10\n",
      "6/6 [==============================] - 1s 186ms/step - loss: 4.4531 - accuracy: 0.3414\n",
      "Epoch 3/10\n",
      "6/6 [==============================] - 1s 188ms/step - loss: 3.7800 - accuracy: 0.4390\n",
      "Epoch 4/10\n",
      "6/6 [==============================] - 1s 197ms/step - loss: 1.5590 - accuracy: 0.4283\n",
      "Epoch 5/10\n",
      "6/6 [==============================] - 1s 197ms/step - loss: 1.0490 - accuracy: 0.5494\n",
      "Epoch 6/10\n",
      "6/6 [==============================] - 1s 194ms/step - loss: 0.9420 - accuracy: 0.6375\n",
      "Epoch 7/10\n",
      "6/6 [==============================] - 1s 188ms/step - loss: 0.8302 - accuracy: 0.7085\n",
      "Epoch 8/10\n",
      "6/6 [==============================] - 1s 191ms/step - loss: 0.7945 - accuracy: 0.6780\n",
      "Epoch 9/10\n",
      "6/6 [==============================] - 1s 193ms/step - loss: 0.8063 - accuracy: 0.6775\n",
      "Epoch 10/10\n",
      "6/6 [==============================] - 1s 189ms/step - loss: 0.6724 - accuracy: 0.7885\n"
     ]
    },
    {
     "data": {
      "text/plain": [
       "<tensorflow.python.keras.callbacks.History at 0x2678a22fb80>"
      ]
     },
     "execution_count": 16,
     "metadata": {},
     "output_type": "execute_result"
    }
   ],
   "source": [
    "base_model = ResNet50(include_top=False,weights=\"imagenet\")\n",
    "x = base_model.output\n",
    "x = GlobalAveragePooling2D()(x)\n",
    "x = Dense(1024, activation=\"relu\")(x)\n",
    "predictions = Dense(train_generator.num_classes, activation=\"softmax\")(x)\n",
    "model = Model(inputs=base_model.input, outputs=predictions)\n",
    "\n",
    "for layer in base_model.layers:\n",
    "    layer.trainable=False\n",
    "model.compile(optimizer=\"adam\",loss=\"categorical_crossentropy\", metrics = [\"accuracy\"])\n",
    "model.fit(train_generator, epochs=10)"
   ]
  },
  {
   "cell_type": "code",
   "execution_count": 17,
   "metadata": {},
   "outputs": [],
   "source": [
    "model.save(\"Model/ResNet50_faces.h5\")"
   ]
  },
  {
   "cell_type": "code",
   "execution_count": 18,
   "metadata": {},
   "outputs": [
    {
     "name": "stdout",
     "output_type": "stream",
     "text": [
      "15/15 - 1s - loss: 1.5174 - accuracy: 0.3333\n",
      "\n",
      "Test accuracy: 0.3333333432674408\n"
     ]
    }
   ],
   "source": [
    "test_loss, test_acc = model.evaluate(test_generator, verbose=2)\n",
    "print(\"\\nTest accuracy:\", test_acc)"
   ]
  },
  {
   "cell_type": "code",
   "execution_count": 19,
   "metadata": {},
   "outputs": [],
   "source": [
    "import pandas as pd\n",
    "import seaborn as sns\n",
    "import tensorflow as tf"
   ]
  },
  {
   "cell_type": "code",
   "execution_count": 20,
   "metadata": {},
   "outputs": [],
   "source": [
    "model=tf.keras.models.load_model(\"Model/ResNet50_faces.h5\")\n",
    "filenames = test_generator.filenames\n",
    "nb_samples=len(test_generator)\n",
    "y_prob=[]\n",
    "y_act=[]\n",
    "test_generator.reset()\n",
    "for _ in range(nb_samples):\n",
    "    X_test,Y_test=test_generator.next()\n",
    "    y_prob.append(model.predict(X_test))\n",
    "    y_act.append(Y_test)\n",
    "predicted_class = [list(train_generator.class_indices.keys())[i.argmax()] for i in y_prob]\n",
    "actual_class = [list(train_generator.class_indices.keys())[i.argmax()] for i in y_act]\n"
   ]
  },
  {
   "cell_type": "code",
   "execution_count": 21,
   "metadata": {},
   "outputs": [
    {
     "name": "stdout",
     "output_type": "stream",
     "text": [
      "Test accuracy:40.0\n"
     ]
    },
    {
     "data": {
      "image/png": "[encoded data removed]",
      "text/plain": [
       "<Figure size 432x288 with 2 Axes>"
      ]
     },
     "metadata": {
      "needs_background": "light"
     },
     "output_type": "display_data"
    }
   ],
   "source": [
    "out_df = pd.DataFrame(np.vstack([predicted_class,actual_class]).T,\n",
    "                      columns=[\"predicted_class\",\"actual_class\"])\n",
    "confusion_matrix=pd.crosstab(out_df[\"actual_class\"], out_df[\"predicted_class\"], \n",
    "                             rownames=[\"Actual\"], colnames=[\"Predicted\"])\n",
    "sns.heatmap(confusion_matrix, cmap=\"Blues\", annot=True, fmt=\"d\")\n",
    "plt.show\n",
    "print(\"Test accuracy:{}\".format((np.diagonal(confusion_matrix).sum()/confusion_matrix.sum().sum()*100)))"
   ]
  },
  {
   "cell_type": "code",
   "execution_count": null,
   "metadata": {},
   "outputs": [],
   "source": []
  }
 ],
 "metadata": {
  "kernelspec": {
   "display_name": "Python 3",
   "language": "python",
   "name": "python3"
  },
  "language_info": {
   "codemirror_mode": {
    "name": "ipython",
    "version": 3
   },
   "file_extension": ".py",
   "mimetype": "text/x-python",
   "name": "python",
   "nbconvert_exporter": "python",
   "pygments_lexer": "ipython3",
   "version": "3.8.3"
  }
 },
 "nbformat": 4,
 "nbformat_minor": 4
}
