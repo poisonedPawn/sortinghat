{
 "metadata": {
  "language_info": {
   "codemirror_mode": {
    "name": "ipython",
    "version": 3
   },
   "file_extension": ".py",
   "mimetype": "text/x-python",
   "name": "python",
   "nbconvert_exporter": "python",
   "pygments_lexer": "ipython3",
   "version": "3.8.3-final"
  },
  "orig_nbformat": 2,
  "kernelspec": {
   "name": "python3",
   "display_name": "Python 3",
   "language": "python"
  }
 },
 "nbformat": 4,
 "nbformat_minor": 2,
 "cells": [
  {
   "cell_type": "code",
   "execution_count": 1,
   "metadata": {},
   "outputs": [],
   "source": [
    "import requests\n",
    "from bs4 import BeautifulSoup\n",
    "import re\n",
    "import pandas as pd"
   ]
  },
  {
   "cell_type": "code",
   "execution_count": 62,
   "metadata": {},
   "outputs": [],
   "source": [
    "from urllib.request import urlopen"
   ]
  },
  {
   "cell_type": "code",
   "execution_count": 76,
   "metadata": {},
   "outputs": [
    {
     "output_type": "stream",
     "name": "stdout",
     "text": [
      "https://static.wikia.nocookie.net/harrypotter/images/a/a2/Gryffindor_Quidditch_Captains_Plaque.jpg/revision/latest?cb=20161202210519\nhttps://static.wikia.nocookie.net/harrypotter/images/a/a2/Gryffindor_Quidditch_Captains_Plaque.jpg/revision/latest?cb=20161202210519\nhttps://static.wikia.nocookie.net/harrypotter/images/f/f7/Gryffindor_Captains_Plaque.jpg/revision/latest?cb=20090904233239\nhttps://static.wikia.nocookie.net/harrypotter/images/a/a2/Gryffindor_Quidditch_Captains_Plaque.jpg/revision/latest?cb=20161202210519\nhttps://static.wikia.nocookie.net/harrypotter/images/f/f7/Gryffindor_Captains_Plaque.jpg/revision/latest?cb=20090904233239\nhttps://static.wikia.nocookie.net/harrypotter/images/3/32/Katie_Bell_infobox.jpg/revision/latest?cb=20170118053940\nhttps://static.wikia.nocookie.net/harrypotter/images/0/01/Student.jpg/revision/latest?cb=20090406213642\nhttps://static.wikia.nocookie.net/harrypotter/images/a/a2/Gryffindor_Quidditch_Captains_Plaque.jpg/revision/latest?cb=20161202210519\nhttps://static.wikia.nocookie.net/harrypotter/images/b/bc/OOTP_promo_front_closeup_Sirius_Black.jpg/revision/latest?cb=20150918055024\nhttps://static.wikia.nocookie.net/harrypotter/images/a/a2/Gryffindor_Quidditch_Captains_Plaque.jpg/revision/latest?cb=20161202210519\nhttps://static.wikia.nocookie.net/harrypotter/images/8/8e/LavenderBrown_WB_F6_LavenderCrying_Promo_080615_Port.jpg/revision/latest?cb=20180203062638\nhttps://static.wikia.nocookie.net/harrypotter/images/a/a2/Gryffindor_Quidditch_Captains_Plaque.jpg/revision/latest?cb=20161202210519\nhttps://static.wikia.nocookie.net/harrypotter/images/5/58/Richie_in_Quidditch.jpg/revision/latest?cb=20160731173310\nhttps://static.wikia.nocookie.net/harrypotter/images/0/01/Muldoon_Cragg.jpg/revision/latest?cb=20120429005730\nhttps://static.wikia.nocookie.net/harrypotter/images/6/6e/Colin_Creevey_OOTPG.jpg/revision/latest?cb=20110829161704\nhttps://static.wikia.nocookie.net/harrypotter/images/4/40/Albus_Dumbledore_%28HBP_promo%29_3.jpg/revision/latest?cb=20150822232849\nhttps://static.wikia.nocookie.net/harrypotter/images/8/8b/Fay_Dunbar.jpg/revision/latest?cb=20100212231425\nhttps://static.wikia.nocookie.net/harrypotter/images/9/9c/Seamus_FinniganDH2.jpg/revision/latest?cb=20170729174316\nhttps://static.wikia.nocookie.net/harrypotter/images/3/34/Hermione_Granger.jpg/revision/latest?cb=20161221044857\nhttps://static.wikia.nocookie.net/harrypotter/images/7/76/Gryffindor_boy_who_struggled_with_the_Levitation_Charm_from_Harry_Potter_Hogwarts_Mystery.jpg/revision/latest?cb=20200420192618\nhttps://static.wikia.nocookie.net/harrypotter/images/6/62/Unidentified_Dumbledores_armymember_n.jpg/revision/latest?cb=20161021144355\nhttps://static.wikia.nocookie.net/harrypotter/images/4/48/Gryffindor_chess_champion.jpg/revision/latest?cb=20100927162956\nhttps://static.wikia.nocookie.net/harrypotter/images/3/31/Founders_gryffindor1.jpg/revision/latest?cb=20180611200439\nhttps://static.wikia.nocookie.net/harrypotter/images/f/f9/PromoHP1_Minerva_McGonagall_2.jpg/revision/latest?cb=20150810173547\nhttps://static.wikia.nocookie.net/harrypotter/images/2/24/GOF_promo_Angelina_Johnson.jpg/revision/latest?cb=20100522214321\nhttps://static.wikia.nocookie.net/harrypotter/images/0/04/Harry-potter-and-the-deathly-hallowspart-2.jpg/revision/latest?cb=20161120035218\nhttps://static.wikia.nocookie.net/harrypotter/images/8/8b/RemusLupin_WB_F3_Concept_of_Lupin_In_Forest_As_A_Werewolf_Illustration.jpg/revision/latest?cb=20151218230927\nhttps://static.wikia.nocookie.net/harrypotter/images/9/98/Pippa_Macmillan.jpg/revision/latest?cb=20191031123914\nhttps://static.wikia.nocookie.net/harrypotter/images/c/cc/Marauders_1997.jpg/revision/latest?cb=20080414050923\nhttps://static.wikia.nocookie.net/harrypotter/images/6/65/ProfessorMcGonagall-HBP.jpg/revision/latest?cb=20100612114856\nhttps://static.wikia.nocookie.net/harrypotter/images/1/11/Mclaggen.jpg/revision/latest?cb=20110224235356\nhttps://static.wikia.nocookie.net/harrypotter/images/7/76/Omichael.jpg/revision/latest?cb=20100722182523\nhttps://static.wikia.nocookie.net/harrypotter/images/a/ad/EloiseMidgenHeadShot.jpg/revision/latest?cb=20170719001242\nhttps://static.wikia.nocookie.net/harrypotter/images/a/a7/OOTP_Rionach_O%27Neal_Trelawney_about_to_be_sacked.jpg/revision/latest?cb=20190321222626\nhttps://static.wikia.nocookie.net/harrypotter/images/4/41/Uric_Oapberg.jpg/revision/latest?cb=20131130155606\nhttps://static.wikia.nocookie.net/harrypotter/images/3/31/Parvati_Patil_headshot.jpg/revision/latest?cb=20170426224646\nhttps://static.wikia.nocookie.net/harrypotter/images/e/e4/Pettigrew_DH1.jpg/revision/latest?cb=20160531030113\nhttps://static.wikia.nocookie.net/harrypotter/images/f/fd/Podric_Piles.jpg/revision/latest?cb=20131130160634\nhttps://static.wikia.nocookie.net/harrypotter/images/8/83/Fleamont_Potter.jpg/revision/latest?cb=20160525180647\nhttps://static.wikia.nocookie.net/harrypotter/images/9/97/Harry_Potter.jpg/revision/latest?cb=20140603201724\nhttps://static.wikia.nocookie.net/harrypotter/images/1/10/James_Potter_I_Deathly_Hallows.jpg/revision/latest?cb=20180601015416\nhttps://static.wikia.nocookie.net/harrypotter/images/b/b1/HPDH2-3922.jpg/revision/latest?cb=20141202001907\nhttps://static.wikia.nocookie.net/harrypotter/images/c/ce/Lily_Potter1.jpg/revision/latest?cb=20140712171247\nhttps://static.wikia.nocookie.net/harrypotter/images/0/0e/Harry-potter7-lily.jpg/revision/latest?cb=20180412223932\nhttps://static.wikia.nocookie.net/harrypotter/images/a/ad/ErniePrang.jpg/revision/latest?cb=20110829193804\nhttps://static.wikia.nocookie.net/harrypotter/images/a/a2/Gryffindor_Quidditch_Captains_Plaque.jpg/revision/latest?cb=20161202210519\nhttps://static.wikia.nocookie.net/harrypotter/images/1/16/SelinaSapworthy.jpg/revision/latest?cb=20100128122621\nhttps://static.wikia.nocookie.net/harrypotter/images/6/64/TerrySkeres.jpg/revision/latest?cb=20151207050924\n"
     ]
    }
   ],
   "source": [
    "gryf = urlopen(\"https://harrypotter.fandom.com/wiki/Category:Gryffindors\")\n",
    "soup = BeautifulSoup(gryf)\n",
    "images_gryf = soup.find_all('img', {'data-src':re.compile('.jpg')}) \n",
    "print(*map(lambda x: x['data-src'],images_gryf), sep='\\n')"
   ]
  },
  {
   "cell_type": "code",
   "execution_count": 77,
   "metadata": {},
   "outputs": [
    {
     "output_type": "stream",
     "name": "stdout",
     "text": [
      "https://static.wikia.nocookie.net/harrypotter/images/d/d5/Alannis.jpg/revision/latest?cb=20110901131638\nhttps://static.wikia.nocookie.net/harrypotter/images/1/17/Amanda4.jpg/revision/latest?cb=20100101055032\nhttps://static.wikia.nocookie.net/harrypotter/images/e/e8/Wizengamot.jpg/revision/latest?cb=20190228140853\nhttps://static.wikia.nocookie.net/harrypotter/images/d/d4/Robert_knox.jpg/revision/latest?cb=20140328073139\nhttps://static.wikia.nocookie.net/harrypotter/images/7/77/Terry_Boot_HP5_PC.jpg/revision/latest?cb=20180709223304\nhttps://static.wikia.nocookie.net/harrypotter/images/1/1e/Cho_Chang.jpg/revision/latest?cb=20180322164130\nhttps://static.wikia.nocookie.net/harrypotter/images/1/1e/Cho_Chang.jpg/revision/latest?cb=20180322164130\nhttps://static.wikia.nocookie.net/harrypotter/images/4/4b/Pepe4.jpg/revision/latest?cb=20160830005853\nhttps://static.wikia.nocookie.net/harrypotter/images/f/f5/Michael_1995.jpg/revision/latest?cb=20160804031238\nhttps://static.wikia.nocookie.net/harrypotter/images/e/e5/Roger_Davies.jpg/revision/latest?cb=20180322052136\nhttps://static.wikia.nocookie.net/harrypotter/images/5/52/Helen_Dawlish.jpg/revision/latest?cb=20100131192016\nhttps://static.wikia.nocookie.net/harrypotter/images/9/94/Nanette_Desford.jpg/revision/latest?cb=20150724101140\nhttps://static.wikia.nocookie.net/harrypotter/images/2/27/Perpetua_Fancourt.jpg/revision/latest?cb=20090623005123\nhttps://static.wikia.nocookie.net/harrypotter/images/7/7c/Fawcett.jpg/revision/latest?cb=20081122132216\nhttps://static.wikia.nocookie.net/harrypotter/images/e/ee/Girl_with_flowers.jpg/revision/latest?cb=20090803225043\nhttps://static.wikia.nocookie.net/harrypotter/images/4/49/Maria_Glossop.jpg/revision/latest?cb=20100328191219\nhttps://static.wikia.nocookie.net/harrypotter/images/7/7d/Anthony_Goldstein_HP5_PC.jpg/revision/latest?cb=20180709222605\nhttps://static.wikia.nocookie.net/harrypotter/images/4/4a/Jason_Huntingdon.jpg/revision/latest?cb=20150724101435\nhttps://static.wikia.nocookie.net/harrypotter/images/c/c3/Ravenclaw_lady.jpg/revision/latest?cb=20100221171741\nhttps://static.wikia.nocookie.net/harrypotter/images/1/1a/Kenneth_Branagh_as_Gilderoy-Lockhart_%286%29.jpg/revision/latest?cb=20181009213748\nhttps://static.wikia.nocookie.net/harrypotter/images/e/ed/Luna_Lovegood.jpg/revision/latest?cb=20160902165706\nhttps://static.wikia.nocookie.net/harrypotter/images/5/54/Xenophilius_Lovegood_Promo_Shot.jpg/revision/latest?cb=20160719193236\nhttps://static.wikia.nocookie.net/harrypotter/images/7/74/Hugo_Mattingley.jpg/revision/latest?cb=20100212231426\nhttps://static.wikia.nocookie.net/harrypotter/images/a/a7/Laverne_de_Montmorency.jpg/revision/latest?cb=20091201152537\nhttps://static.wikia.nocookie.net/harrypotter/images/e/e9/Quirinus_Quirrel.jpg/revision/latest?cb=20110806132643\nhttps://static.wikia.nocookie.net/harrypotter/images/e/e2/Ravenclaw_Lad.jpg/revision/latest?cb=20200622122844\nhttps://static.wikia.nocookie.net/harrypotter/images/e/ea/Ravenclaw_prefect_PS_1.jpg/revision/latest?cb=20100621170657\nhttps://static.wikia.nocookie.net/harrypotter/images/c/ca/Ravenclaw_Duelling_Champion.jpg/revision/latest?cb=20110514192303\nhttps://static.wikia.nocookie.net/harrypotter/images/0/02/Ravenclaw_chess_champion.jpg/revision/latest?cb=20100927163029\nhttps://static.wikia.nocookie.net/harrypotter/images/1/1c/PM_RowenaRavenclaw_Founders.jpg/revision/latest?cb=20180611200720\nhttps://static.wikia.nocookie.net/harrypotter/images/e/ef/Raymond.jpg/revision/latest?cb=20111126223159\nhttps://static.wikia.nocookie.net/harrypotter/images/9/9c/Yolanda_Reedham.jpg/revision/latest?cb=20100131193240\nhttps://static.wikia.nocookie.net/harrypotter/images/d/dc/Secret_student_sweetshop_manager.jpg/revision/latest?cb=20111126220839\nhttps://static.wikia.nocookie.net/harrypotter/images/6/62/Justin_Steele.jpg/revision/latest?cb=20150724101543\nhttps://static.wikia.nocookie.net/harrypotter/images/0/06/Jeremy_Stretton_Cleansweep_Seven.jpg/revision/latest?cb=20091020205540\nhttps://static.wikia.nocookie.net/harrypotter/images/5/55/Trelawney_ootp.jpg/revision/latest?cb=20170731050353\nhttps://static.wikia.nocookie.net/harrypotter/images/c/ca/HPDH2-2496.jpg/revision/latest?cb=20111216145609\nhttps://static.wikia.nocookie.net/harrypotter/images/b/b5/Duri.jpg/revision/latest?cb=20111215143917\nhttps://static.wikia.nocookie.net/harrypotter/images/1/16/Imagesdfg.jpg/revision/latest?cb=20110820135453\nhttps://static.wikia.nocookie.net/harrypotter/images/e/e9/HPDH2-1019_%281%29.jpg/revision/latest?cb=20111216142254\n"
     ]
    }
   ],
   "source": [
    "rav = urlopen(\"https://harrypotter.fandom.com/wiki/Category:Ravenclaws\")\n",
    "soup = BeautifulSoup(rav)\n",
    "images_rav = soup.find_all('img', {'data-src':re.compile('.jpg')}) \n",
    "print(*map(lambda x: x['data-src'],images_rav), sep='\\n')"
   ]
  },
  {
   "cell_type": "code",
   "execution_count": 79,
   "metadata": {},
   "outputs": [
    {
     "output_type": "stream",
     "name": "stdout",
     "text": [
      "https://static.wikia.nocookie.net/harrypotter/images/f/f1/GiffardAbbott2.jpg/revision/latest?cb=20141127213444\nhttps://static.wikia.nocookie.net/harrypotter/images/b/b7/Harry-potter-goblet-of-fire-hannah.jpg/revision/latest?cb=20170731215859\nhttps://static.wikia.nocookie.net/harrypotter/images/7/74/Alys_1.jpg/revision/latest?cb=20091114001911\nhttps://static.wikia.nocookie.net/harrypotter/images/f/f6/Philip_Blagdon.jpg/revision/latest?cb=20100124022559\nhttps://static.wikia.nocookie.net/harrypotter/images/a/a2/Chauncy.jpg/revision/latest?cb=20180316080014\nhttps://static.wikia.nocookie.net/harrypotter/images/2/2a/Irene_Denholm.jpg/revision/latest?cb=20100131191603\nhttps://static.wikia.nocookie.net/harrypotter/images/9/9c/Hufflepuff_Duelling_Club_Captain.jpg/revision/latest?cb=20150829153601\nhttps://static.wikia.nocookie.net/harrypotter/images/5/58/Beatrice_Haywood_year_2.jpg/revision/latest?cb=20200131160604\nhttps://static.wikia.nocookie.net/harrypotter/images/6/6e/Gwendoline_Hedgeflower.jpg/revision/latest?cb=20190213010223\nhttps://static.wikia.nocookie.net/harrypotter/images/8/8f/HPDH2-2471_%281%29.jpg/revision/latest?cb=20111216153235\nhttps://static.wikia.nocookie.net/harrypotter/images/8/8b/Hufflepuff_girl_FB2.jpg/revision/latest?cb=20180722170335\nhttps://static.wikia.nocookie.net/harrypotter/images/2/2e/777.jpg/revision/latest?cb=20110707133200\nhttps://static.wikia.nocookie.net/harrypotter/images/6/66/Hufflepuff_Duelling_Champion.jpg/revision/latest?cb=20110514152807\nhttps://static.wikia.nocookie.net/harrypotter/images/d/d6/PM_HelgaHufflepuff_Founders.jpg/revision/latest?cb=20180611201502\nhttps://static.wikia.nocookie.net/harrypotter/images/4/4a/James.jpg/revision/latest?cb=20180724215331\nhttps://static.wikia.nocookie.net/harrypotter/images/9/93/Hufflepuff_lady.jpg/revision/latest?cb=20091115170739\nhttps://static.wikia.nocookie.net/harrypotter/images/d/de/Ernie_GOF.jpg/revision/latest?cb=20160720043852\nhttps://static.wikia.nocookie.net/harrypotter/images/e/e9/Anthony_Otterburn.jpg/revision/latest?cb=20100131193615\nhttps://static.wikia.nocookie.net/harrypotter/images/a/a1/Bhavana_Patel.jpg/revision/latest?cb=20100131193953\nhttps://static.wikia.nocookie.net/harrypotter/images/0/0e/Edna_Patridge.jpg/revision/latest?cb=20100212231426\nhttps://static.wikia.nocookie.net/harrypotter/images/0/0c/WB_F5_Dumbledores_army_smith.jpg/revision/latest?cb=20180215164827\nhttps://static.wikia.nocookie.net/harrypotter/images/7/7d/HP72-FP-00573.jpg/revision/latest?cb=20170730031333\nhttps://static.wikia.nocookie.net/harrypotter/images/1/1f/Stebbins.jpg/revision/latest?cb=20081122133024\nhttps://static.wikia.nocookie.net/harrypotter/images/c/c7/Summerby.jpg/revision/latest?cb=20100712145238\nhttps://static.wikia.nocookie.net/harrypotter/images/d/d7/Lina_Tande.jpg/revision/latest?cb=20100328191428\nhttps://static.wikia.nocookie.net/harrypotter/images/c/c8/Nymphadora_Tonks_DH_promo_headshot_.jpg/revision/latest?cb=20161119222048\nhttps://static.wikia.nocookie.net/harrypotter/images/4/4a/Gabriel_Truman.jpg/revision/latest?cb=20110830223035\nhttps://static.wikia.nocookie.net/harrypotter/images/a/a8/Unidentified_Hufflepuff_girl_OOTPF.jpg/revision/latest?cb=20201126210737\nhttps://static.wikia.nocookie.net/harrypotter/images/0/05/Hengist_of_Woodcroft.jpg/revision/latest?cb=20091003211056\n"
     ]
    }
   ],
   "source": [
    "huff = urlopen(\"https://harrypotter.fandom.com/wiki/Category:Hufflepuffs\")\n",
    "soup = BeautifulSoup(huff)\n",
    "images_huff = soup.find_all('img', {'data-src':re.compile('.jpg')}) \n",
    "print(*map(lambda x: x['data-src'],images_huff), sep='\\n')"
   ]
  },
  {
   "cell_type": "code",
   "execution_count": 80,
   "metadata": {},
   "outputs": [
    {
     "output_type": "stream",
     "name": "stdout",
     "text": [
      "https://static.wikia.nocookie.net/harrypotter/images/5/52/Duncan_Ashe.jpg/revision/latest?cb=20181027083253\nhttps://static.wikia.nocookie.net/harrypotter/images/7/78/Death_Eater_-_Avery_presumed_-_GOF.jpg/revision/latest?cb=20160523234840\nhttps://static.wikia.nocookie.net/harrypotter/images/6/6e/Callidora_Black_2.jpg/revision/latest?cb=20170731040322\nhttps://static.wikia.nocookie.net/harrypotter/images/e/e6/Cassiopeia_Black.jpg/revision/latest?cb=20110619010109\nhttps://static.wikia.nocookie.net/harrypotter/images/4/4f/Cedrella_Weasley.jpg/revision/latest?cb=20130402014606\nhttps://static.wikia.nocookie.net/harrypotter/images/6/60/Charis_Black.jpg/revision/latest?cb=20170731040125\nhttps://static.wikia.nocookie.net/harrypotter/images/5/50/Dorea_Black_5.jpg/revision/latest?cb=20141120142310\nhttps://static.wikia.nocookie.net/harrypotter/images/6/69/Lucretia.jpg/revision/latest?cb=20130402024415\nhttps://static.wikia.nocookie.net/harrypotter/images/8/86/Orion_Black.jpg/revision/latest?cb=20170322223908\nhttps://static.wikia.nocookie.net/harrypotter/images/9/93/PhineasNBlack.jpg/revision/latest?cb=20110619011730\nhttps://static.wikia.nocookie.net/harrypotter/images/4/42/Walburga_Black.jpg/revision/latest?cb=20141021210156\nhttps://static.wikia.nocookie.net/harrypotter/images/5/55/Bloody_Baron.jpg/revision/latest?cb=20100408172210\nhttps://static.wikia.nocookie.net/harrypotter/images/4/48/Millicent_Bulstrode_2.jpg/revision/latest?cb=20141228194856\nhttps://static.wikia.nocookie.net/harrypotter/images/b/b3/Elizabeth_Burke_full.jpg/revision/latest?cb=20120621215549\nhttps://static.wikia.nocookie.net/harrypotter/images/2/25/Alecto-DH2.jpg/revision/latest?cb=20170203010927\nhttps://static.wikia.nocookie.net/harrypotter/images/6/6f/Halfblood-01673.jpg/revision/latest?cb=20141225181159\nhttps://static.wikia.nocookie.net/harrypotter/images/1/16/Halfblood-0167.jpg/revision/latest?cb=20141225181903\nhttps://static.wikia.nocookie.net/harrypotter/images/b/ba/Vincent_Crabbe.jpg/revision/latest?cb=20091224183746\nhttps://static.wikia.nocookie.net/harrypotter/images/f/f2/Slytherin_House_Captain%27s_Plaque.jpg/revision/latest?cb=20100116044353\nhttps://static.wikia.nocookie.net/harrypotter/images/a/a0/Irving_Cram.jpg/revision/latest?cb=20100131191147\nhttps://static.wikia.nocookie.net/harrypotter/images/f/f2/Slytherin_House_Captain%27s_Plaque.jpg/revision/latest?cb=20100116044353\nhttps://static.wikia.nocookie.net/harrypotter/images/6/6a/Simon_Dedworth.jpg/revision/latest?cb=20100131194352\nhttps://static.wikia.nocookie.net/harrypotter/images/7/7f/Dm%27s_gang.jpg/revision/latest?cb=20150829033658\nhttps://static.wikia.nocookie.net/harrypotter/images/c/c2/Slytherin_Duelling_Club_Captain.jpg/revision/latest?cb=20091018211221\nhttps://static.wikia.nocookie.net/harrypotter/images/8/80/Monmarcus.jpg/revision/latest?cb=20100327164729\nhttps://static.wikia.nocookie.net/harrypotter/images/e/e7/Gregory_Goyle_DH2.jpg/revision/latest?cb=20180306163743\nhttps://static.wikia.nocookie.net/harrypotter/images/a/a1/Horace_Slughorn_%28HBP_promo%29_1-1.jpg/revision/latest?cb=20100706114608\nhttps://static.wikia.nocookie.net/harrypotter/images/f/f2/Slytherin_House_Captain%27s_Plaque.jpg/revision/latest?cb=20100116044353\nhttps://static.wikia.nocookie.net/harrypotter/images/f/f2/Slytherin_House_Captain%27s_Plaque.jpg/revision/latest?cb=20100116044353\nhttps://static.wikia.nocookie.net/harrypotter/images/7/76/Slytherin_knight.jpg/revision/latest?cb=20111124002442\nhttps://static.wikia.nocookie.net/harrypotter/images/f/f2/Slytherin_House_Captain%27s_Plaque.jpg/revision/latest?cb=20100116044353\nhttps://static.wikia.nocookie.net/harrypotter/images/f/f2/Slytherin_House_Captain%27s_Plaque.jpg/revision/latest?cb=20100116044353\nhttps://static.wikia.nocookie.net/harrypotter/images/1/17/Harry-potter-half-blood-lestrange.jpg/revision/latest?cb=20180720152801\nhttps://static.wikia.nocookie.net/harrypotter/images/0/09/Agnes_Monkleigh.jpg/revision/latest?cb=20181206124313\nhttps://static.wikia.nocookie.net/harrypotter/images/6/6f/Ismelda_Murk_HM.jpg/revision/latest?cb=20180524113549\nhttps://static.wikia.nocookie.net/harrypotter/images/0/04/Nigel%27s_nephew.jpg/revision/latest?cb=20110814223116\nhttps://static.wikia.nocookie.net/harrypotter/images/a/a8/SlytherinBoy3.jpg/revision/latest?cb=20090331173420\nhttps://static.wikia.nocookie.net/harrypotter/images/1/13/Adrianpucey-HS.jpg/revision/latest?cb=20101126164937\nhttps://static.wikia.nocookie.net/harrypotter/images/a/a1/Horace_Slughorn_%28HBP_promo%29_1-1.jpg/revision/latest?cb=20100706114608\nhttps://static.wikia.nocookie.net/harrypotter/images/1/1b/Slytherin_Duelling_Champion.jpg/revision/latest?cb=20110514220338\nhttps://static.wikia.nocookie.net/harrypotter/images/5/54/Slytherin_chess_champion.jpg/revision/latest?cb=20100927163054\nhttps://static.wikia.nocookie.net/harrypotter/images/6/60/PM_SalazarSlytherin_Founders.jpg/revision/latest?cb=20180611201037\nhttps://static.wikia.nocookie.net/harrypotter/images/a/a3/Severus_Snape.jpg/revision/latest?cb=20150307193047\nhttps://static.wikia.nocookie.net/harrypotter/images/f/f2/Slytherin_House_Captain%27s_Plaque.jpg/revision/latest?cb=20100116044353\nhttps://static.wikia.nocookie.net/harrypotter/images/f/f2/Slytherin_House_Captain%27s_Plaque.jpg/revision/latest?cb=20100116044353\nhttps://static.wikia.nocookie.net/harrypotter/images/0/09/Young_Death_Eaters.jpg/revision/latest?cb=20180720142700\n"
     ]
    }
   ],
   "source": [
    "sly = urlopen(\"https://harrypotter.fandom.com/wiki/Category:Slytherins\")\n",
    "soup = BeautifulSoup(sly)\n",
    "images_sly = soup.find_all('img', {'data-src':re.compile('.jpg')}) \n",
    "print(*map(lambda x: x['data-src'],images_sly), sep='\\n')"
   ]
  },
  {
   "cell_type": "code",
   "execution_count": null,
   "metadata": {},
   "outputs": [],
   "source": []
  },
  {
   "cell_type": "code",
   "execution_count": null,
   "metadata": {},
   "outputs": [],
   "source": []
  }
 ]
}