{
 "cells": [
  {
   "cell_type": "code",
   "execution_count": 17,
   "metadata": {},
   "outputs": [],
   "source": [
    "import os, glob\n",
    "import cv2\n",
    "import numpy as np\n",
    "from matplotlib import pyplot as plt"
   ]
  },
  {
   "cell_type": "code",
   "execution_count": 18,
   "metadata": {},
   "outputs": [],
   "source": [
    "faceClassifier = cv2.CascadeClassifier('C:/Users/cande/anaconda3/Lib/site-packages/cv2/data/haarcascade_frontalface_default.xml')\n",
    "img = cv2.imread(\"Houses/Hufflepuff/777.jpg\",0)\n",
    "img2 = img.copy()"
   ]
  },
  {
   "cell_type": "code",
   "execution_count": 19,
   "metadata": {},
   "outputs": [
    {
     "name": "stdout",
     "output_type": "stream",
     "text": [
      "1\n"
     ]
    }
   ],
   "source": [
    "faces =  faceClassifier.detectMultiScale(img)\n",
    "count = 0\n",
    "\n",
    "for (x,y,w,h) in faces:\n",
    "    cv2.rectangle(img,(x,y),(x+w,y+h),(128.0,255),2)\n",
    "    rostro = img2[y:y+h,x:x+w]\n",
    "    rostro = cv2.resize(rostro,(150,150), interpolation=cv2.INTER_CUBIC)\n",
    "    cv2.imwrite(\"rostro_{}.jpg\".format(count),rostro)\n",
    "    count = count+1\n",
    "    print(count)\n",
    "\n",
    "    cv2.imshow(\"rostro\",rostro)\n",
    "    cv2.imshow(\"image\",img)\n",
    "    cv2.waitKey(1)"
   ]
  },
  {
   "cell_type": "code",
   "execution_count": 20,
   "metadata": {},
   "outputs": [],
   "source": [
    "cv2.destroyAllWindows()"
   ]
  },
  {
   "cell_type": "code",
   "execution_count": 21,
   "metadata": {},
   "outputs": [
    {
     "name": "stdout",
     "output_type": "stream",
     "text": [
      "10\n",
      "20\n",
      "30\n",
      "40\n",
      "50\n",
      "60\n",
      "70\n",
      "80\n",
      "90\n",
      "100\n",
      "110\n",
      "120\n",
      "130\n",
      "140\n",
      "150\n",
      "160\n",
      "170\n",
      "180\n",
      "190\n",
      "200\n",
      "210\n",
      "10\n",
      "20\n",
      "30\n",
      "40\n",
      "50\n",
      "60\n",
      "70\n",
      "80\n",
      "90\n",
      "100\n",
      "110\n",
      "120\n",
      "10\n",
      "20\n",
      "30\n",
      "da error None\n",
      "40\n",
      "50\n",
      "60\n",
      "70\n",
      "80\n",
      "90\n",
      "100\n",
      "110\n",
      "120\n",
      "130\n",
      "140\n",
      "150\n",
      "160\n",
      "170\n",
      "180\n",
      "10\n",
      "20\n",
      "30\n",
      "40\n",
      "50\n",
      "60\n",
      "70\n",
      "80\n",
      "90\n",
      "100\n",
      "110\n",
      "120\n",
      "130\n",
      "140\n",
      "150\n"
     ]
    }
   ],
   "source": [
    "houses = [\n",
    "    \"Gryffindor\",\n",
    "    \"Hufflepuff\",\n",
    "    \"Slytherin\",\n",
    "    \"Ravenclaw\"\n",
    "]\n",
    "\n",
    "path = \"C:/Users/cande/Desktop/Sorting-Hat/Houses/\"\n",
    "\n",
    "for house in houses:\n",
    "    count = 0\n",
    "    for img in glob.glob(path+house+\"/*\"):\n",
    "        try:\n",
    "            img = img.replace(\"\\\\\",\"/\")\n",
    "            img = cv2.imread(img,0)\n",
    "            img2= img.copy()\n",
    "            faces =  faceClassifier.detectMultiScale(img2)\n",
    "\n",
    "            for (x,y,w,h) in faces:\n",
    "                cv2.rectangle(img2,(x,y),(x+w,y+h),(128.0,255),2)\n",
    "                rostro = img2[y:y+h,x:x+w]\n",
    "                rostro = cv2.resize(rostro,(64,64), interpolation=cv2.INTER_CUBIC)\n",
    "                cv2.imwrite(\"{}_{}.jpg\".format(house,count),rostro)\n",
    "                count = count+1\n",
    "                if count % 10 == 0:\n",
    "                    print(count)\n",
    "\n",
    "                cv2.imshow(\"rostro\",rostro)\n",
    "    #             cv2.imshow(\"image\",img2)\n",
    "                cv2.waitKey(1)\n",
    "        except AttributeError:\n",
    "            print(f\"da error {img}\")"
   ]
  },
  {
   "cell_type": "code",
   "execution_count": 22,
   "metadata": {},
   "outputs": [
    {
     "name": "stdout",
     "output_type": "stream",
     "text": [
      "[[61 61 61 ... 88 88 87]\n",
      " [60 60 60 ... 88 88 88]\n",
      " [60 60 60 ... 88 88 88]\n",
      " ...\n",
      " [26 35 36 ... 45 46 46]\n",
      " [25 30 57 ... 45 46 47]\n",
      " [18 14 53 ... 45 45 46]]\n"
     ]
    }
   ],
   "source": []
  },
  {
   "cell_type": "code",
   "execution_count": null,
   "metadata": {},
   "outputs": [],
   "source": []
  }
 ],
 "metadata": {
  "kernelspec": {
   "display_name": "Python 3",
   "language": "python",
   "name": "python3"
  },
  "language_info": {
   "codemirror_mode": {
    "name": "ipython",
    "version": 3
   },
   "file_extension": ".py",
   "mimetype": "text/x-python",
   "name": "python",
   "nbconvert_exporter": "python",
   "pygments_lexer": "ipython3",
   "version": "3.8.3"
  }
 },
 "nbformat": 4,
 "nbformat_minor": 4
}
